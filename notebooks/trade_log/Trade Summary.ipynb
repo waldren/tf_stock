{
 "cells": [
  {
   "cell_type": "code",
   "execution_count": 11,
   "metadata": {},
   "outputs": [],
   "source": [
    "import pandas as pd"
   ]
  },
  {
   "cell_type": "code",
   "execution_count": 30,
   "metadata": {},
   "outputs": [],
   "source": [
    "trades = pd.read_csv('./stock_trade_log.csv') "
   ]
  },
  {
   "cell_type": "code",
   "execution_count": 31,
   "metadata": {},
   "outputs": [
    {
     "data": {
      "text/html": [
       "<div>\n",
       "<style scoped>\n",
       "    .dataframe tbody tr th:only-of-type {\n",
       "        vertical-align: middle;\n",
       "    }\n",
       "\n",
       "    .dataframe tbody tr th {\n",
       "        vertical-align: top;\n",
       "    }\n",
       "\n",
       "    .dataframe thead th {\n",
       "        text-align: right;\n",
       "    }\n",
       "</style>\n",
       "<table border=\"1\" class=\"dataframe\">\n",
       "  <thead>\n",
       "    <tr style=\"text-align: right;\">\n",
       "      <th></th>\n",
       "      <th>DATE</th>\n",
       "      <th>TRANSACTION ID</th>\n",
       "      <th>DESCRIPTION</th>\n",
       "      <th>QUANTITY</th>\n",
       "      <th>SYMBOL</th>\n",
       "      <th>PRICE</th>\n",
       "      <th>COMMISSION</th>\n",
       "      <th>AMOUNT</th>\n",
       "      <th>REG FEE</th>\n",
       "      <th>SHORT-TERM RDM FEE</th>\n",
       "      <th>FUND REDEMPTION FEE</th>\n",
       "      <th>DEFERRED SALES CHARGE</th>\n",
       "    </tr>\n",
       "  </thead>\n",
       "  <tbody>\n",
       "    <tr>\n",
       "      <th>88</th>\n",
       "      <td>05/19/2021</td>\n",
       "      <td>3.490941e+10</td>\n",
       "      <td>Bought 50 VXX @ 44.135</td>\n",
       "      <td>-50.0</td>\n",
       "      <td>VXX</td>\n",
       "      <td>44.1350</td>\n",
       "      <td>0.0</td>\n",
       "      <td>-2206.75</td>\n",
       "      <td>NaN</td>\n",
       "      <td>NaN</td>\n",
       "      <td>NaN</td>\n",
       "      <td>NaN</td>\n",
       "    </tr>\n",
       "    <tr>\n",
       "      <th>89</th>\n",
       "      <td>05/19/2021</td>\n",
       "      <td>3.491369e+10</td>\n",
       "      <td>Sold 50 VXX @ 43</td>\n",
       "      <td>50.0</td>\n",
       "      <td>VXX</td>\n",
       "      <td>43.0000</td>\n",
       "      <td>0.0</td>\n",
       "      <td>2149.98</td>\n",
       "      <td>0.02</td>\n",
       "      <td>NaN</td>\n",
       "      <td>NaN</td>\n",
       "      <td>NaN</td>\n",
       "    </tr>\n",
       "    <tr>\n",
       "      <th>90</th>\n",
       "      <td>05/20/2021</td>\n",
       "      <td>3.493320e+10</td>\n",
       "      <td>Bought 60 LEV @ 18.0899</td>\n",
       "      <td>-60.0</td>\n",
       "      <td>LEV</td>\n",
       "      <td>18.0899</td>\n",
       "      <td>0.0</td>\n",
       "      <td>-1085.39</td>\n",
       "      <td>NaN</td>\n",
       "      <td>NaN</td>\n",
       "      <td>NaN</td>\n",
       "      <td>NaN</td>\n",
       "    </tr>\n",
       "    <tr>\n",
       "      <th>91</th>\n",
       "      <td>05/21/2021</td>\n",
       "      <td>3.495488e+10</td>\n",
       "      <td>Bought 15 PATH @ 77.4681</td>\n",
       "      <td>-15.0</td>\n",
       "      <td>PATH</td>\n",
       "      <td>77.4681</td>\n",
       "      <td>0.0</td>\n",
       "      <td>-1162.02</td>\n",
       "      <td>NaN</td>\n",
       "      <td>NaN</td>\n",
       "      <td>NaN</td>\n",
       "      <td>NaN</td>\n",
       "    </tr>\n",
       "    <tr>\n",
       "      <th>92</th>\n",
       "      <td>05/21/2021</td>\n",
       "      <td>3.495666e+10</td>\n",
       "      <td>Bought 10 DAR @ 69.2841</td>\n",
       "      <td>-10.0</td>\n",
       "      <td>DAR</td>\n",
       "      <td>69.2841</td>\n",
       "      <td>0.0</td>\n",
       "      <td>-692.84</td>\n",
       "      <td>NaN</td>\n",
       "      <td>NaN</td>\n",
       "      <td>NaN</td>\n",
       "      <td>NaN</td>\n",
       "    </tr>\n",
       "  </tbody>\n",
       "</table>\n",
       "</div>"
      ],
      "text/plain": [
       "          DATE  TRANSACTION ID               DESCRIPTION  QUANTITY SYMBOL  \\\n",
       "88  05/19/2021    3.490941e+10    Bought 50 VXX @ 44.135     -50.0    VXX   \n",
       "89  05/19/2021    3.491369e+10          Sold 50 VXX @ 43      50.0    VXX   \n",
       "90  05/20/2021    3.493320e+10   Bought 60 LEV @ 18.0899     -60.0    LEV   \n",
       "91  05/21/2021    3.495488e+10  Bought 15 PATH @ 77.4681     -15.0   PATH   \n",
       "92  05/21/2021    3.495666e+10   Bought 10 DAR @ 69.2841     -10.0    DAR   \n",
       "\n",
       "      PRICE  COMMISSION   AMOUNT  REG FEE  SHORT-TERM RDM FEE  \\\n",
       "88  44.1350         0.0 -2206.75      NaN                 NaN   \n",
       "89  43.0000         0.0  2149.98     0.02                 NaN   \n",
       "90  18.0899         0.0 -1085.39      NaN                 NaN   \n",
       "91  77.4681         0.0 -1162.02      NaN                 NaN   \n",
       "92  69.2841         0.0  -692.84      NaN                 NaN   \n",
       "\n",
       "    FUND REDEMPTION FEE  DEFERRED SALES CHARGE  \n",
       "88                  NaN                    NaN  \n",
       "89                  NaN                    NaN  \n",
       "90                  NaN                    NaN  \n",
       "91                  NaN                    NaN  \n",
       "92                  NaN                    NaN  "
      ]
     },
     "execution_count": 31,
     "metadata": {},
     "output_type": "execute_result"
    }
   ],
   "source": [
    "trades[\"QUANTITY\"] = (trades[\"AMOUNT\"]/abs(trades[\"AMOUNT\"])*trades[\"QUANTITY\"])\n",
    "trades.tail()"
   ]
  },
  {
   "cell_type": "code",
   "execution_count": null,
   "metadata": {},
   "outputs": [],
   "source": []
  },
  {
   "cell_type": "code",
   "execution_count": 32,
   "metadata": {},
   "outputs": [],
   "source": [
    "stocks = trades[['SYMBOL', 'AMOUNT', 'QUANTITY']]\n",
    "\n",
    "stocks = stocks.groupby(['SYMBOL'])"
   ]
  },
  {
   "cell_type": "code",
   "execution_count": 33,
   "metadata": {},
   "outputs": [
    {
     "name": "stdout",
     "output_type": "stream",
     "text": [
      "         AMOUNT  QUANTITY\n",
      "SYMBOL                   \n",
      "AFMD    -112.52       0.0\n",
      "AMC      -48.80       0.0\n",
      "AMKR      -3.85       0.0\n",
      "AR      -798.08     -80.0\n",
      "ASO      -22.72       0.0\n",
      "BCRX     -30.80       0.0\n",
      "CAR      207.80       0.0\n",
      "CCO       69.63       0.0\n",
      "CIDM    -152.01       0.0\n",
      "CLF     -104.32       0.0\n",
      "CRSP     -48.05       0.0\n",
      "CTXR      -9.30       0.0\n",
      "DAR     -706.85     -10.0\n",
      "DQ       -66.91       0.0\n",
      "IAC      -46.50       0.0\n",
      "KIRK     -35.23       0.0\n",
      "KOPN     -32.41       0.0\n",
      "LEV    -1085.39     -60.0\n",
      "MARA     -70.02       0.0\n",
      "MU       -17.29       0.0\n",
      "ON        87.29       0.0\n",
      "PATH   -1162.02     -15.0\n",
      "RRR       -0.74       0.0\n",
      "RVLV     -41.04       0.0\n",
      "SBLK     417.91       0.0\n",
      "SI       -90.16       0.0\n",
      "SM       -85.26       0.0\n",
      "SXC      -10.74       0.0\n",
      "TDC      -15.31       0.0\n",
      "TIGR    -123.51       0.0\n",
      "UEC      -18.02       0.0\n",
      "UPST     -46.96       0.0\n",
      "VIAC     -44.63       0.0\n",
      "VXX      -59.25       0.0\n",
      "XONE     -13.81       0.0\n",
      "ZKIN    -119.81       0.0\n"
     ]
    }
   ],
   "source": [
    "totals = stocks.sum()\n",
    "print(totals)"
   ]
  },
  {
   "cell_type": "code",
   "execution_count": 35,
   "metadata": {},
   "outputs": [],
   "source": [
    "#Exclude open positions\n",
    "totals = totals[totals[\"QUANTITY\"] == 0]"
   ]
  },
  {
   "cell_type": "code",
   "execution_count": 36,
   "metadata": {},
   "outputs": [
    {
     "name": "stdout",
     "output_type": "stream",
     "text": [
      "Mean: \t\t-21.48\n",
      "Max_Loss: \t-152.01\n",
      "Max_Win: \t417.91\n"
     ]
    }
   ],
   "source": [
    "print( \"Mean: \\t\\t{:0.2f}\".format(totals['AMOUNT'].mean()) )\n",
    "print( \"Max_Loss: \\t{:0.2f}\".format(totals['AMOUNT'].min()) )\n",
    "print( \"Max_Win: \\t{:0.2f}\".format(totals['AMOUNT'].max()) )"
   ]
  },
  {
   "cell_type": "code",
   "execution_count": 37,
   "metadata": {},
   "outputs": [
    {
     "name": "stdout",
     "output_type": "stream",
     "text": [
      "Win %: 12.50%\n"
     ]
    }
   ],
   "source": [
    "winners = totals[totals[\"AMOUNT\"] > 0]\n",
    "losers = totals[totals[\"AMOUNT\"] < 0]\n",
    "wl_ratio = winners.shape[0]/totals.shape[0]\n",
    "print(\"Win %: {:0.2f}%\".format(wl_ratio*100))"
   ]
  },
  {
   "cell_type": "code",
   "execution_count": 45,
   "metadata": {},
   "outputs": [
    {
     "name": "stdout",
     "output_type": "stream",
     "text": [
      "Avg Win: 195.66\n",
      "Avg Loss: -52.50\n",
      "Profit/Risk: 3.73\n"
     ]
    }
   ],
   "source": [
    "w_avg = winners[\"AMOUNT\"].mean()\n",
    "l_avg = losers[\"AMOUNT\"].mean()\n",
    "print(\"Avg Win: {:0.2f}\".format(w_avg))\n",
    "print(\"Avg Loss: {:0.2f}\".format(l_avg))\n",
    "print(\"Profit/Risk: {:0.2f}\".format(abs(w_avg/l_avg)))"
   ]
  },
  {
   "cell_type": "code",
   "execution_count": null,
   "metadata": {},
   "outputs": [],
   "source": []
  }
 ],
 "metadata": {
  "kernelspec": {
   "display_name": "Python 3",
   "language": "python",
   "name": "python3"
  },
  "language_info": {
   "codemirror_mode": {
    "name": "ipython",
    "version": 3
   },
   "file_extension": ".py",
   "mimetype": "text/x-python",
   "name": "python",
   "nbconvert_exporter": "python",
   "pygments_lexer": "ipython3",
   "version": "3.6.9"
  }
 },
 "nbformat": 4,
 "nbformat_minor": 2
}
